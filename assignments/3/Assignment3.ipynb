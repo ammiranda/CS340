{
 "cells": [
  {
   "cell_type": "markdown",
   "metadata": {},
   "source": [
    "1) Select the **CommonName** and **FoodType** <i>Name</i> of all pairs of **Fish** and **FoodTypes** that are compatible. This means a single **Fish** may appear several times (once for each kind of food it can eat).\n",
    "\n",
    "$$\\pi_{Fish.CommonName, FoodTypes.Name}((Fish \\bowtie_{Fish.FishId = FishDiet.Fish} FishDiet)\\bowtie_{FishDiet.Food = FoodTypes.FoodId} FoodTypes)$$"
   ]
  },
  {
   "cell_type": "markdown",
   "metadata": {},
   "source": [
    "2) Select the <i>CommonName</i> and <i>ScientificName</i> of all **Fish** in **TankInstances** of <i>TankSize</i> 60.\n",
    "\n",
    "$$\\pi_{Fish.CommonName, Fish.ScientificName}(\\sigma_{TankSize = 60}((Fish\\bowtie_{Fish.FishId = FishInstance.FishType}FishInstance)\\bowtie_{FishInstance.TankInstance = TankInstance.TankInstanceId}TankInstance))$$"
   ]
  },
  {
   "cell_type": "markdown",
   "metadata": {
    "collapsed": true
   },
   "source": [
    "3) Select all of the **FoodType** <i>Names</i> that can be used to feed at least one **FishInstance** in the **TankInstance** with <i>TankInstanceId</i> of 44.\n",
    "\n",
    "$$\\pi_{FoodTypes.Name}(\\sigma_{TankInstance.TankInstanceId = 44\\ and\\ count(FishInstance.FishInstanceId) > 0}(((FoodTypes \\bowtie_{FoodTypes.FoodId = FishDiet.Food} FishDiet)\\bowtie_{FishDiet.Fish = Fish.FishId} Fish)\\bowtie_{Fish.FishId = FishInstance.FishType} FishInstance)) $$"
   ]
  },
  {
   "cell_type": "markdown",
   "metadata": {},
   "source": [
    "4) Select all **FishInstance** <i>FishInstanceId</i> which are in a tank that is not compatible for them. In other words, if the **Fish** <i>TankType</i> is not the same as the <i>TankType</i> of the **TankInstance** a **FishInstance** is in, it is in an incompatible tank.\n",
    "\n",
    "$$\\pi_{FishInstance.FishInstanceId}(\\sigma_{Fish.TankType != TankInstance.TankType}(((FishInstance \\bowtie_{FishInstance.TankInstance = TankInstance.TankInstanceId} TankInstance)\\bowtie_{TankInstance.TankType = TankTypes.TankId} TankTypes)\\bowtie_{TankTypes.TankId = Fish.TankType} Fish))$$"
   ]
  },
  {
   "cell_type": "markdown",
   "metadata": {},
   "source": [
    "5) Convert the following into relational algebra:\n",
    "\n",
    "SELECT Player.id, Team.name, City.name FROM Player<br>\n",
    "INNER JOIN Team ON Player.team_id = Team.id<br>\n",
    "INNER JOIN City ON Team.city_id = City.id<br>\n",
    "WHERE Player.score = 200;\n",
    "\n",
    "$$\\pi_{Player.id, Team.name, City.name}(\\sigma_{Player.score = 200}((Player\\bowtie_{Player.team\\_id = Team.id}Team)\\bowtie_{Team.city\\_id = City.id}City))$$"
   ]
  }
 ],
 "metadata": {
  "kernelspec": {
   "display_name": "Python 3",
   "language": "python",
   "name": "python3"
  },
  "language_info": {
   "codemirror_mode": {
    "name": "ipython",
    "version": 3
   },
   "file_extension": ".py",
   "mimetype": "text/x-python",
   "name": "python",
   "nbconvert_exporter": "python",
   "pygments_lexer": "ipython3",
   "version": "3.5.2"
  }
 },
 "nbformat": 4,
 "nbformat_minor": 0
}
