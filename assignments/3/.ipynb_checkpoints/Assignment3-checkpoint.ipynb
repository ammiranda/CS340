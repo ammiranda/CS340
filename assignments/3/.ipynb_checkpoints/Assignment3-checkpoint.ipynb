{
 "cells": [
  {
   "cell_type": "markdown",
   "metadata": {},
   "source": [
    "1. Select the **CommonName** and **FoodType** <i>Name</i> of all pairs of **Fish** and **FoodTypes** that are compatible. This means a single **Fish** may appear several times (once for each kind of food it can eat).\n",
    "\n",
    "$$\\pi()$$"
   ]
  },
  {
   "cell_type": "markdown",
   "metadata": {},
   "source": [
    "2. Select the <i>CommonName</i> and <i>ScientificName</i> of all **Fish** in **TankInstances** of <i>TankSize</i> 60.\n",
    "\n",
    "$$\\pi_{(Fish.CommonName, Fish.ScientificName)}(\\sigma_{TankSize = 60}(Fish\\bowtie_{Fish.FishId = FishInstance})$$"
   ]
  },
  {
   "cell_type": "code",
   "execution_count": null,
   "metadata": {
    "collapsed": true
   },
   "outputs": [],
   "source": []
  }
 ],
 "metadata": {
  "kernelspec": {
   "display_name": "Python 3",
   "language": "python",
   "name": "python3"
  }
 },
 "nbformat": 4,
 "nbformat_minor": 0
}
